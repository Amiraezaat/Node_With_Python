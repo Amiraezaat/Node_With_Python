{
 "cells": [
  {
   "cell_type": "code",
   "execution_count": 5,
   "id": "0c4f9992",
   "metadata": {},
   "outputs": [
    {
     "name": "stdout",
     "output_type": "stream",
     "text": [
      "Status Code 200\n",
      "JSON Response  {'message': '✅ Done! Please check your data', 'Your_Data': {'National_ID': '112233445577', 'Birth_Day': '1999-12-31T22:00:00.000Z', 'Current_Address': 'hadayk al-ahram', 'Eduction_Status': 'graduated', 'Gender': 'female', 'Job': 'back end developer', 'Social_Status': 'Single', 'Zip': 123, 'age': 22, 'city': 'cairo', 'country': 'giza', 'firstName': 'Amira', 'lastName': 'Ezzat', 'phone': 1142255517, 'updatedAt': '2022-07-29T23:06:34.967Z', '__v': 1, 'picture': 'http://localhost:3000/pictures/Citizens/qV3YbtFaxc6A6fJspW4ik==LZ9B5u1OEDmHHp_SlpSBa_post-1.bmp'}}\n"
     ]
    }
   ],
   "source": [
    "#  this cell to get user by his feature\n",
    "import cv2 \n",
    "\n",
    "img1 = cv2.imread(\"p1.bmp\" , cv2.IMREAD_GRAYSCALE) \n",
    "\n",
    "orb = cv2.ORB_create(nfeatures = 1500)\n",
    "\n",
    "keypoints1, descriptors1 = orb.detectAndCompute(img1, None)\n",
    "\n",
    "img1 = cv2.drawKeypoints (img1, keypoints1 ,None)\n",
    "\n",
    "import requests\n",
    "\n",
    "url = \"http://localhost:3000/getuser_features\"\n",
    " \n",
    "data = {\n",
    "  \"feature\":str(descriptors1)\n",
    "}\n",
    "\n",
    "response = requests.get( url , json = data)\n",
    " \n",
    "print(\"Status Code\", response.status_code)\n",
    "\n",
    "print(\"JSON Response \", response.json())\n"
   ]
  },
  {
   "cell_type": "code",
   "execution_count": null,
   "id": "b3c5191a",
   "metadata": {},
   "outputs": [],
   "source": []
  }
 ],
 "metadata": {
  "kernelspec": {
   "display_name": "Python 3",
   "language": "python",
   "name": "python3"
  },
  "language_info": {
   "codemirror_mode": {
    "name": "ipython",
    "version": 3
   },
   "file_extension": ".py",
   "mimetype": "text/x-python",
   "name": "python",
   "nbconvert_exporter": "python",
   "pygments_lexer": "ipython3",
   "version": "3.8.8"
  }
 },
 "nbformat": 4,
 "nbformat_minor": 5
}
